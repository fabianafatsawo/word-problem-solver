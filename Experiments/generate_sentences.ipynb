{
 "cells": [
  {
   "cell_type": "code",
   "execution_count": 1,
   "metadata": {},
   "outputs": [],
   "source": [
    "from parrot import Parrot\n",
    "import warnings\n",
    "import pandas as pd\n",
    "\n",
    "from bs4 import BeautifulSoup\n",
    "from collections import OrderedDict\n",
    "from tqdm import tqdm\n",
    "\n",
    "warnings.filterwarnings(\"ignore\")\n",
    "\n",
    "\n",
    "class Program:\n",
    "    model = None\n",
    "    translator = None\n",
    "\n",
    "    def init_model(self, use_gpu=True):\n",
    "        if self.model is None:\n",
    "            self.model = Parrot(model_tag=\"prithivida/parrot_paraphraser_on_T5\", use_gpu=use_gpu)\n",
    "            self.use_gpu = use_gpu\n",
    "\n",
    "    def predict(self, phrases):\n",
    "        self.init_model()\n",
    "        sentences = []\n",
    "        for phrase in phrases:\n",
    "            print(\"Paraphrasing [\" + phrase + \"]\")\n",
    "            try:\n",
    "                para_phrases = self.model.augment(\n",
    "                    input_phrase=phrase,\n",
    "                    do_diverse=True,\n",
    "                    max_return_phrases=25,\n",
    "                    max_length=256,\n",
    "                    adequacy_threshold=0.50,\n",
    "                    fluency_threshold=0.50,\n",
    "                    use_gpu=self.use_gpu\n",
    "                )\n",
    "                if para_phrases is None:\n",
    "                    return\n",
    "                for para_phrase in para_phrases:\n",
    "                    sentences.append(str(para_phrase[0])) \n",
    "            except:\n",
    "                pass\n",
    "        return sentences"
   ]
  },
  {
   "cell_type": "code",
   "execution_count": 2,
   "metadata": {},
   "outputs": [
    {
     "name": "stdout",
     "output_type": "stream",
     "text": [
      "Paraphrasing [This is a test sentence.]\n"
     ]
    },
    {
     "data": {
      "text/plain": [
       "['these sentences are for testing purposes only',\n",
       " \"it's a test\",\n",
       " 'these sentences are for testing',\n",
       " 'these sentences are tests',\n",
       " \"it's a test phrase\",\n",
       " \"it's a test sentence for me\",\n",
       " 'the test sentence is a test phrase',\n",
       " \"i think it's a test phrase\",\n",
       " 'the test sentence is for the test sentence',\n",
       " 'this is a test',\n",
       " 'the test sentence is',\n",
       " 'the test sentence',\n",
       " 'i think this sentence is a test sentence',\n",
       " \"it's a test sentence\",\n",
       " \"i think it's a test sentence\",\n",
       " 'this is the test sentence',\n",
       " 'the test sentence is a test sentence',\n",
       " 'it is a test sentence',\n",
       " \"this is a test sentence ''\",\n",
       " \"all right it's a test sentence\",\n",
       " 'this is a test sentence']"
      ]
     },
     "execution_count": 2,
     "metadata": {},
     "output_type": "execute_result"
    }
   ],
   "source": [
    "parrot = Program()\n",
    "parrot.predict(['This is a test sentence.'])"
   ]
  },
  {
   "cell_type": "code",
   "execution_count": 3,
   "metadata": {},
   "outputs": [
    {
     "name": "stdout",
     "output_type": "stream",
     "text": [
      "Paraphrasing [How many apples does the man have?]\n"
     ]
    },
    {
     "data": {
      "text/plain": [
       "['how many apples does a man have? how many are there?',\n",
       " 'can you list the number of apple trees that a man has?',\n",
       " 'show the number of apples in a man?',\n",
       " 'how many apples does a man have? how many apples?',\n",
       " 'show the number of apples a man has?',\n",
       " 'is there a limit to how many apples a person has?',\n",
       " 'show the number of apples that a man has?',\n",
       " 'how many apples does a man have in his hand?',\n",
       " 'is there a limit to how many apples a man has?',\n",
       " 'show the number of apples a man can have?',\n",
       " 'how many apples does a man have? how many?',\n",
       " 'how many apples does a man possess?',\n",
       " 'is it true how many apples a man has?',\n",
       " 'how many apples do a man have?',\n",
       " 'how many apples does man have?',\n",
       " 'how many apples does a man have?',\n",
       " 'is it true how many apples do a man have?',\n",
       " 'is it true how many apples does a man have?',\n",
       " 'how many apples does the man have?']"
      ]
     },
     "execution_count": 3,
     "metadata": {},
     "output_type": "execute_result"
    }
   ],
   "source": [
    "parrot.predict(['How many apples does the man have?'])"
   ]
  },
  {
   "cell_type": "code",
   "execution_count": 3,
   "metadata": {},
   "outputs": [],
   "source": [
    "data_dir='data/ACE - Word Problems/'\n",
    "csv_path = data_dir+'ACE - Word Problems - Present Simple 2.csv'\n",
    "present_simple_df = pd.read_csv(csv_path)\n",
    "# past_simple_df = pd.read_csv(data_dir+'ACE - Word Problems - Past Simple.csv')\n",
    "# gen_2_df = pd.read_csv(data_dir+'gen_2_pairs.csv')\n",
    "# past_present_df = pd.DataFrame(zip(past_simple_df['problem'].tolist(), present_simple_df['problem'].tolist()), columns=['input_text', 'target_text'])\n",
    "# past_present_df.head()"
   ]
  },
  {
   "cell_type": "code",
   "execution_count": 11,
   "metadata": {},
   "outputs": [
    {
     "data": {
      "text/html": [
       "<div>\n",
       "<style scoped>\n",
       "    .dataframe tbody tr th:only-of-type {\n",
       "        vertical-align: middle;\n",
       "    }\n",
       "\n",
       "    .dataframe tbody tr th {\n",
       "        vertical-align: top;\n",
       "    }\n",
       "\n",
       "    .dataframe thead th {\n",
       "        text-align: right;\n",
       "    }\n",
       "</style>\n",
       "<table border=\"1\" class=\"dataframe\">\n",
       "  <thead>\n",
       "    <tr style=\"text-align: right;\">\n",
       "      <th></th>\n",
       "      <th>input_text</th>\n",
       "      <th>target_text</th>\n",
       "    </tr>\n",
       "  </thead>\n",
       "  <tbody>\n",
       "    <tr>\n",
       "      <th>0</th>\n",
       "      <td>A man has 3 apples. A woman gives 4 apples to ...</td>\n",
       "      <td>A man has 3 apples. A woman gives 4 apples to ...</td>\n",
       "    </tr>\n",
       "    <tr>\n",
       "      <th>1</th>\n",
       "      <td>A woman has 1 ball. A man gives 9 balls to the...</td>\n",
       "      <td>A woman has 1 ball. A man gives 9 balls to the...</td>\n",
       "    </tr>\n",
       "    <tr>\n",
       "      <th>2</th>\n",
       "      <td>A boy has 8 bananas. A girl gives 1 banana to ...</td>\n",
       "      <td>A boy has 8 bananas. A girl gives 1 banana to ...</td>\n",
       "    </tr>\n",
       "    <tr>\n",
       "      <th>3</th>\n",
       "      <td>A girl has 3 melons. A boy gives 6 melons to t...</td>\n",
       "      <td>A girl has 3 melons. A boy gives 6 melons to t...</td>\n",
       "    </tr>\n",
       "    <tr>\n",
       "      <th>4</th>\n",
       "      <td>A restaurant has 175 normal chairs. The restau...</td>\n",
       "      <td>A restaurant has 175 normal chairs. The restau...</td>\n",
       "    </tr>\n",
       "    <tr>\n",
       "      <th>...</th>\n",
       "      <td>...</td>\n",
       "      <td>...</td>\n",
       "    </tr>\n",
       "    <tr>\n",
       "      <th>235</th>\n",
       "      <td>There are 5 tables and if there is a table the...</td>\n",
       "      <td>There are 5 tables. If there is a table then i...</td>\n",
       "    </tr>\n",
       "    <tr>\n",
       "      <th>236</th>\n",
       "      <td>There are 3 chalkboards. Each chalkboard has 2...</td>\n",
       "      <td>There are 3 chalkboards. Each chalkboard has 2...</td>\n",
       "    </tr>\n",
       "    <tr>\n",
       "      <th>237</th>\n",
       "      <td>There are 5 cars. Each car has 4 wheels. A man...</td>\n",
       "      <td>There are 5 cars. Each car has 4 wheels. A man...</td>\n",
       "    </tr>\n",
       "    <tr>\n",
       "      <th>238</th>\n",
       "      <td>There are 2 spiders. Each spider has 8 legs an...</td>\n",
       "      <td>There are 2 spiders. Each spider has 8 legs. A...</td>\n",
       "    </tr>\n",
       "    <tr>\n",
       "      <th>239</th>\n",
       "      <td>There are 5 trees. Each tree has 10 branches a...</td>\n",
       "      <td>There are 5 trees. Each tree has 10 branches. ...</td>\n",
       "    </tr>\n",
       "  </tbody>\n",
       "</table>\n",
       "<p>240 rows × 2 columns</p>\n",
       "</div>"
      ],
      "text/plain": [
       "                                            input_text  \\\n",
       "0    A man has 3 apples. A woman gives 4 apples to ...   \n",
       "1    A woman has 1 ball. A man gives 9 balls to the...   \n",
       "2    A boy has 8 bananas. A girl gives 1 banana to ...   \n",
       "3    A girl has 3 melons. A boy gives 6 melons to t...   \n",
       "4    A restaurant has 175 normal chairs. The restau...   \n",
       "..                                                 ...   \n",
       "235  There are 5 tables and if there is a table the...   \n",
       "236  There are 3 chalkboards. Each chalkboard has 2...   \n",
       "237  There are 5 cars. Each car has 4 wheels. A man...   \n",
       "238  There are 2 spiders. Each spider has 8 legs an...   \n",
       "239  There are 5 trees. Each tree has 10 branches a...   \n",
       "\n",
       "                                           target_text  \n",
       "0    A man has 3 apples. A woman gives 4 apples to ...  \n",
       "1    A woman has 1 ball. A man gives 9 balls to the...  \n",
       "2    A boy has 8 bananas. A girl gives 1 banana to ...  \n",
       "3    A girl has 3 melons. A boy gives 6 melons to t...  \n",
       "4    A restaurant has 175 normal chairs. The restau...  \n",
       "..                                                 ...  \n",
       "235  There are 5 tables. If there is a table then i...  \n",
       "236  There are 3 chalkboards. Each chalkboard has 2...  \n",
       "237  There are 5 cars. Each car has 4 wheels. A man...  \n",
       "238  There are 2 spiders. Each spider has 8 legs. A...  \n",
       "239  There are 5 trees. Each tree has 10 branches. ...  \n",
       "\n",
       "[240 rows x 2 columns]"
      ]
     },
     "execution_count": 11,
     "metadata": {},
     "output_type": "execute_result"
    }
   ],
   "source": [
    "def form_pairs(target_text='ACE - Word Problems - Present Simple.csv', input_texts=['ACE - Word Problems - Past Simple.csv'], data_dir='data/', target_as_input=True):\n",
    "    target_df = pd.read_csv(data_dir+target_text)\n",
    "    output = []\n",
    "    if target_as_input:\n",
    "        output.extend(list(zip(target_df['problem'].tolist(), target_df['problem'].tolist())))\n",
    "    for input_text in input_texts:\n",
    "        input_df = pd.read_csv(data_dir+input_text)\n",
    "        # gen_2_df = pd.read_csv(data_dir+'gen_2_pairs.csv')\n",
    "        output.extend(list(zip(input_df['problem'].tolist(), target_df['problem'].tolist())))\n",
    "    output_df = pd.DataFrame(output, columns=['input_text', 'target_text'])\n",
    "    return output_df\n",
    "\n",
    "form_pairs(target_text='ACE - Word Problems - Present Simple 2.csv', input_texts=['ACE - Word Problems - Past Simple.csv', 'ACE - Word Problems - Composition.csv'], data_dir='data/ACE - Word Problems/')"
   ]
  },
  {
   "cell_type": "code",
   "execution_count": 27,
   "metadata": {},
   "outputs": [],
   "source": [
    "gen_3_df = pd.concat([gen_2_df, past_present_df])\n",
    "with open(data_dir+'gen_3_pairs.csv', 'w') as f:\n",
    "    gen_3_df.to_csv(f, index=False)"
   ]
  },
  {
   "cell_type": "code",
   "execution_count": 15,
   "metadata": {},
   "outputs": [
    {
     "data": {
      "text/plain": [
       "'how many apples does a man have in his hand?'"
      ]
     },
     "execution_count": 15,
     "metadata": {},
     "output_type": "execute_result"
    }
   ],
   "source": [
    "parrot.model.rephrase('How many apples does the man have?', do_diverse=True, adequacy_threshold=0.8)[0]"
   ]
  },
  {
   "cell_type": "code",
   "execution_count": 9,
   "metadata": {},
   "outputs": [],
   "source": [
    "def validate_sentence(key, sentence):\n",
    "    dot = sentence.count('.')\n",
    "    qmark = sentence.count('?')\n",
    "    if dot > 1 or qmark > 2 or key == sentence.lower():\n",
    "        return 0\n",
    "    else:\n",
    "        return 1\n",
    "\n",
    "def check_sentence(sentence, adequacy_threshold=0.90, fluency_threshold=0.90, use_input=True):\n",
    "    if isinstance(sentence, tuple):\n",
    "        sentence = sentence[0]\n",
    "    key = sentence.lower().strip()\n",
    "    while adequacy_threshold >= 0.05 and not validate_sentence(key, sentence):\n",
    "        adequacy_threshold = adequacy_threshold - 0.1\n",
    "        sentence = parrot.model.rephrase(sentence, do_diverse=False, adequacy_threshold=adequacy_threshold)[0]\n",
    "        if isinstance(sentence, tuple):\n",
    "            sentence = sentence[0]\n",
    "    if adequacy_threshold < 0.05 or not validate_sentence(key, sentence):\n",
    "        while fluency_threshold >= 0.05 and not validate_sentence(key, sentence):\n",
    "            fluency_threshold = fluency_threshold - 0.1\n",
    "            sentence = parrot.model.rephrase(sentence, do_diverse=False, fluency_threshold=fluency_threshold)[0]\n",
    "            if isinstance(sentence, tuple):\n",
    "                sentence = sentence[0]\n",
    "        if fluency_threshold < 0.05 or not validate_sentence(key, sentence):\n",
    "            if use_input:\n",
    "                sentence = input(f'Cant transform: \"{sentence}\" | manual = ')\n",
    "            else:\n",
    "                raise ValueError(f'Cant transform: {sentence}')\n",
    "    return sentence\n",
    "\n",
    "def format_sentence(sentence):\n",
    "    sentence = sentence.strip().capitalize()\n",
    "    if '?' in sentence:\n",
    "        return sentence\n",
    "    else:\n",
    "        return sentence+'.'\n",
    "\n",
    "def print_output(key, value):\n",
    "    print(f'original: {key}\\nnew:\\n')\n",
    "    for s in value:\n",
    "        print(f'  {s}')\n"
   ]
  },
  {
   "cell_type": "code",
   "execution_count": 21,
   "metadata": {},
   "outputs": [
    {
     "data": {
      "text/plain": [
       "('each tree has 10 branches', 32)"
      ]
     },
     "execution_count": 21,
     "metadata": {},
     "output_type": "execute_result"
    }
   ],
   "source": [
    "s1 = 'A man has 3 apples. A woman gives 4 apples to the man.'\n",
    "s2 = 'How many apples does the man have?'\n",
    "s = f'{s1} {s2}'\n",
    "s1 = 'There are 5 trees. Each tree has 10 branches.'\n",
    "# check_sentence(s)\n",
    "parrot.model.rephrase(s1, do_diverse=False, adequacy_threshold=0.1)"
   ]
  },
  {
   "cell_type": "code",
   "execution_count": 10,
   "metadata": {},
   "outputs": [
    {
     "name": "stderr",
     "output_type": "stream",
     "text": [
      "100%|██████████| 80/80 [28:37<00:00, 21.46s/it]\n"
     ]
    }
   ],
   "source": [
    "new_sentences = {}\n",
    "for i, key in enumerate(tqdm(present_simple_df['problem'].tolist())):\n",
    "    value = []\n",
    "    sentences = key.split('.')\n",
    "    sentences = [format_sentence(s) for s in sentences]\n",
    "    single_add = []\n",
    "    for i, sentence in enumerate(sentences):\n",
    "        s_copy = sentences.copy()\n",
    "        new_sentence = parrot.model.rephrase(sentence, do_diverse=True)[0]\n",
    "        # print(f\"new_sentence: {new_sentence}\")\n",
    "        new_sentence = check_sentence(new_sentence)\n",
    "        new_sentence = format_sentence(new_sentence)\n",
    "        s_copy[i] = new_sentence\n",
    "        value.append(\" \".join(s_copy))\n",
    "        single_add.append(new_sentence)\n",
    "    value.append(\" \".join(single_add))\n",
    "    new_sentences[key] = value\n",
    "    # print_output(key, value)\n"
   ]
  },
  {
   "cell_type": "code",
   "execution_count": 33,
   "metadata": {},
   "outputs": [
    {
     "data": {
      "text/plain": [
       "80"
      ]
     },
     "execution_count": 33,
     "metadata": {},
     "output_type": "execute_result"
    }
   ],
   "source": [
    "parrot.model.rephrase('An influencer has two accounts.', do_diverse=False, adequacy_threshold=0.2)[0]\n",
    "len(present_simple_df['problem'].tolist())"
   ]
  },
  {
   "cell_type": "code",
   "execution_count": 43,
   "metadata": {},
   "outputs": [],
   "source": [
    "compound = dict()\n",
    "compound.update(new_sentences1)\n",
    "compound.update(new_sentences)"
   ]
  },
  {
   "cell_type": "code",
   "execution_count": 12,
   "metadata": {},
   "outputs": [
    {
     "data": {
      "text/plain": [
       "80"
      ]
     },
     "execution_count": 12,
     "metadata": {},
     "output_type": "execute_result"
    }
   ],
   "source": [
    "len(new_sentences)\n",
    "# len(present_simple_df['problem'].tolist()[48:])\n",
    "# ss = []\n",
    "# for i, a in enumerate(present_simple_df['problem'].tolist()[48:]):\n",
    "#     if a not in ss:\n",
    "#         ss.append(a)\n",
    "#     else:\n",
    "#         print(a)\n",
    "#         # print(a)\n"
   ]
  },
  {
   "cell_type": "code",
   "execution_count": 13,
   "metadata": {},
   "outputs": [
    {
     "data": {
      "text/html": [
       "<div>\n",
       "<style scoped>\n",
       "    .dataframe tbody tr th:only-of-type {\n",
       "        vertical-align: middle;\n",
       "    }\n",
       "\n",
       "    .dataframe tbody tr th {\n",
       "        vertical-align: top;\n",
       "    }\n",
       "\n",
       "    .dataframe thead th {\n",
       "        text-align: right;\n",
       "    }\n",
       "</style>\n",
       "<table border=\"1\" class=\"dataframe\">\n",
       "  <thead>\n",
       "    <tr style=\"text-align: right;\">\n",
       "      <th></th>\n",
       "      <th>0</th>\n",
       "      <th>1</th>\n",
       "      <th>2</th>\n",
       "      <th>3</th>\n",
       "      <th>4</th>\n",
       "      <th>5</th>\n",
       "      <th>6</th>\n",
       "    </tr>\n",
       "  </thead>\n",
       "  <tbody>\n",
       "    <tr>\n",
       "      <th>0</th>\n",
       "      <td>A man has 3 apples. A woman gives 4 apples to ...</td>\n",
       "      <td>There's three apples. A woman gives 4 apples t...</td>\n",
       "      <td>A man has 3 apples. A woman gives him four app...</td>\n",
       "      <td>A man has 3 apples. A woman gives 4 apples to ...</td>\n",
       "      <td>There's three apples. A woman gives him four a...</td>\n",
       "      <td>None</td>\n",
       "      <td>None</td>\n",
       "    </tr>\n",
       "    <tr>\n",
       "      <th>1</th>\n",
       "      <td>A woman has 1 ball. A man gives 9 balls to the...</td>\n",
       "      <td>There's only one ball. A man gives 9 balls to ...</td>\n",
       "      <td>A woman has 1 ball. A man has nine balls to gi...</td>\n",
       "      <td>A woman has 1 ball. A man gives 9 balls to the...</td>\n",
       "      <td>There's only one ball. A man has nine balls to...</td>\n",
       "      <td>None</td>\n",
       "      <td>None</td>\n",
       "    </tr>\n",
       "    <tr>\n",
       "      <th>2</th>\n",
       "      <td>A boy has 8 bananas. A girl gives 1 banana to ...</td>\n",
       "      <td>A boy has 8 bananas in his hand. A girl gives ...</td>\n",
       "      <td>A boy has 8 bananas. A girl gives it to the bo...</td>\n",
       "      <td>A boy has 8 bananas. A girl gives 1 banana to ...</td>\n",
       "      <td>A boy has 8 bananas in his hand. A girl gives ...</td>\n",
       "      <td>None</td>\n",
       "      <td>None</td>\n",
       "    </tr>\n",
       "    <tr>\n",
       "      <th>3</th>\n",
       "      <td>A girl has 3 melons. A boy gives 6 melons to t...</td>\n",
       "      <td>I think a girl has three melons. A boy gives 6...</td>\n",
       "      <td>A girl has 3 melons. A boy gives her six melon...</td>\n",
       "      <td>A girl has 3 melons. A boy gives 6 melons to t...</td>\n",
       "      <td>I think a girl has three melons. A boy gives h...</td>\n",
       "      <td>None</td>\n",
       "      <td>None</td>\n",
       "    </tr>\n",
       "    <tr>\n",
       "      <th>4</th>\n",
       "      <td>A restaurant has 175 normal chairs. The restau...</td>\n",
       "      <td>The restaurant has 175 seats. The restaurant h...</td>\n",
       "      <td>A restaurant has 175 normal chairs. The restau...</td>\n",
       "      <td>A restaurant has 175 normal chairs. The restau...</td>\n",
       "      <td>The restaurant has 175 seats. The restaurant h...</td>\n",
       "      <td>None</td>\n",
       "      <td>None</td>\n",
       "    </tr>\n",
       "  </tbody>\n",
       "</table>\n",
       "</div>"
      ],
      "text/plain": [
       "                                                   0  \\\n",
       "0  A man has 3 apples. A woman gives 4 apples to ...   \n",
       "1  A woman has 1 ball. A man gives 9 balls to the...   \n",
       "2  A boy has 8 bananas. A girl gives 1 banana to ...   \n",
       "3  A girl has 3 melons. A boy gives 6 melons to t...   \n",
       "4  A restaurant has 175 normal chairs. The restau...   \n",
       "\n",
       "                                                   1  \\\n",
       "0  There's three apples. A woman gives 4 apples t...   \n",
       "1  There's only one ball. A man gives 9 balls to ...   \n",
       "2  A boy has 8 bananas in his hand. A girl gives ...   \n",
       "3  I think a girl has three melons. A boy gives 6...   \n",
       "4  The restaurant has 175 seats. The restaurant h...   \n",
       "\n",
       "                                                   2  \\\n",
       "0  A man has 3 apples. A woman gives him four app...   \n",
       "1  A woman has 1 ball. A man has nine balls to gi...   \n",
       "2  A boy has 8 bananas. A girl gives it to the bo...   \n",
       "3  A girl has 3 melons. A boy gives her six melon...   \n",
       "4  A restaurant has 175 normal chairs. The restau...   \n",
       "\n",
       "                                                   3  \\\n",
       "0  A man has 3 apples. A woman gives 4 apples to ...   \n",
       "1  A woman has 1 ball. A man gives 9 balls to the...   \n",
       "2  A boy has 8 bananas. A girl gives 1 banana to ...   \n",
       "3  A girl has 3 melons. A boy gives 6 melons to t...   \n",
       "4  A restaurant has 175 normal chairs. The restau...   \n",
       "\n",
       "                                                   4     5     6  \n",
       "0  There's three apples. A woman gives him four a...  None  None  \n",
       "1  There's only one ball. A man has nine balls to...  None  None  \n",
       "2  A boy has 8 bananas in his hand. A girl gives ...  None  None  \n",
       "3  I think a girl has three melons. A boy gives h...  None  None  \n",
       "4  The restaurant has 175 seats. The restaurant h...  None  None  "
      ]
     },
     "execution_count": 13,
     "metadata": {},
     "output_type": "execute_result"
    }
   ],
   "source": [
    "rows = []\n",
    "for key, value in new_sentences.items():\n",
    "    r = [key]\n",
    "    r.extend(value)\n",
    "    rows.append(r)\n",
    "df1 = pd.DataFrame(rows)\n",
    "df1.head()"
   ]
  },
  {
   "cell_type": "code",
   "execution_count": 14,
   "metadata": {},
   "outputs": [],
   "source": [
    "with open(data_dir+'gen_4_perm_true_lt_a_9_f_9_table.csv', 'w') as f:\n",
    "    df1.to_csv(f)"
   ]
  },
  {
   "cell_type": "code",
   "execution_count": 49,
   "metadata": {},
   "outputs": [
    {
     "data": {
      "text/html": [
       "<div>\n",
       "<style scoped>\n",
       "    .dataframe tbody tr th:only-of-type {\n",
       "        vertical-align: middle;\n",
       "    }\n",
       "\n",
       "    .dataframe tbody tr th {\n",
       "        vertical-align: top;\n",
       "    }\n",
       "\n",
       "    .dataframe thead th {\n",
       "        text-align: right;\n",
       "    }\n",
       "</style>\n",
       "<table border=\"1\" class=\"dataframe\">\n",
       "  <thead>\n",
       "    <tr style=\"text-align: right;\">\n",
       "      <th></th>\n",
       "      <th>input_text</th>\n",
       "      <th>target_text</th>\n",
       "    </tr>\n",
       "  </thead>\n",
       "  <tbody>\n",
       "    <tr>\n",
       "      <th>0</th>\n",
       "      <td>I'll have three apples. A woman gives 4 apples...</td>\n",
       "      <td>A man has 3 apples. A woman gives 4 apples to ...</td>\n",
       "    </tr>\n",
       "    <tr>\n",
       "      <th>1</th>\n",
       "      <td>A man has 3 apples. She gives him four apples....</td>\n",
       "      <td>A man has 3 apples. A woman gives 4 apples to ...</td>\n",
       "    </tr>\n",
       "    <tr>\n",
       "      <th>2</th>\n",
       "      <td>A man has 3 apples. A woman gives 4 apples to ...</td>\n",
       "      <td>A man has 3 apples. A woman gives 4 apples to ...</td>\n",
       "    </tr>\n",
       "    <tr>\n",
       "      <th>3</th>\n",
       "      <td>I'll have three apples. She gives him four app...</td>\n",
       "      <td>A man has 3 apples. A woman gives 4 apples to ...</td>\n",
       "    </tr>\n",
       "    <tr>\n",
       "      <th>4</th>\n",
       "      <td>A man has 3 apples. A woman gives 4 apples to ...</td>\n",
       "      <td>A man has 3 apples. A woman gives 4 apples to ...</td>\n",
       "    </tr>\n",
       "  </tbody>\n",
       "</table>\n",
       "</div>"
      ],
      "text/plain": [
       "                                          input_text  \\\n",
       "0  I'll have three apples. A woman gives 4 apples...   \n",
       "1  A man has 3 apples. She gives him four apples....   \n",
       "2  A man has 3 apples. A woman gives 4 apples to ...   \n",
       "3  I'll have three apples. She gives him four app...   \n",
       "4  A man has 3 apples. A woman gives 4 apples to ...   \n",
       "\n",
       "                                         target_text  \n",
       "0  A man has 3 apples. A woman gives 4 apples to ...  \n",
       "1  A man has 3 apples. A woman gives 4 apples to ...  \n",
       "2  A man has 3 apples. A woman gives 4 apples to ...  \n",
       "3  A man has 3 apples. A woman gives 4 apples to ...  \n",
       "4  A man has 3 apples. A woman gives 4 apples to ...  "
      ]
     },
     "execution_count": 49,
     "metadata": {},
     "output_type": "execute_result"
    }
   ],
   "source": [
    "def form_pairs(df):\n",
    "    df = df.where(pd.notnull(df), None)\n",
    "    pairs = []\n",
    "    for _, values in df.iterrows():\n",
    "        inp = values[0]\n",
    "        for out in values[1:]:\n",
    "            if out is None:\n",
    "                continue\n",
    "            else:\n",
    "                pairs.append([out, inp])\n",
    "        pairs.append([inp,inp])\n",
    "    return pd.DataFrame(pairs, columns=['input_text', 'target_text'])\n",
    "    \n",
    "\n",
    "        \n",
    "df_pairs = form_pairs(df1)\n",
    "df_pairs.head()"
   ]
  },
  {
   "cell_type": "code",
   "execution_count": 50,
   "metadata": {},
   "outputs": [],
   "source": [
    "with open(data_dir+'gen_2_pairs.csv', 'w') as f:\n",
    "    df_pairs.to_csv(f, index=False)"
   ]
  },
  {
   "cell_type": "code",
   "execution_count": 40,
   "metadata": {},
   "outputs": [
    {
     "data": {
      "text/plain": [
       "'There is a mother. There is a father. A bottle has 6 glasses. If a bottle has 2 glasses then the father gets 1 glass from the bottle and the mother gets 1 glass from the bottle. How many glasses does the mother have?'"
      ]
     },
     "execution_count": 40,
     "metadata": {},
     "output_type": "execute_result"
    }
   ],
   "source": [
    "df_pairs.max()['input_text']"
   ]
  },
  {
   "cell_type": "code",
   "execution_count": 42,
   "metadata": {},
   "outputs": [
    {
     "data": {
      "text/html": [
       "<div>\n",
       "<style scoped>\n",
       "    .dataframe tbody tr th:only-of-type {\n",
       "        vertical-align: middle;\n",
       "    }\n",
       "\n",
       "    .dataframe tbody tr th {\n",
       "        vertical-align: top;\n",
       "    }\n",
       "\n",
       "    .dataframe thead th {\n",
       "        text-align: right;\n",
       "    }\n",
       "</style>\n",
       "<table border=\"1\" class=\"dataframe\">\n",
       "  <thead>\n",
       "    <tr style=\"text-align: right;\">\n",
       "      <th></th>\n",
       "      <th>0</th>\n",
       "      <th>1</th>\n",
       "      <th>2</th>\n",
       "      <th>3</th>\n",
       "      <th>4</th>\n",
       "      <th>5</th>\n",
       "      <th>6</th>\n",
       "    </tr>\n",
       "  </thead>\n",
       "  <tbody>\n",
       "    <tr>\n",
       "      <th>0</th>\n",
       "      <td>A man has 3 apples. A woman gives 4 apples to ...</td>\n",
       "      <td>I'll have three apples. A woman gives 4 apples...</td>\n",
       "      <td>A man has 3 apples. She gives him four apples....</td>\n",
       "      <td>A man has 3 apples. A woman gives 4 apples to ...</td>\n",
       "      <td>I'll have three apples. She gives him four app...</td>\n",
       "      <td>NaN</td>\n",
       "      <td>NaN</td>\n",
       "    </tr>\n",
       "    <tr>\n",
       "      <th>1</th>\n",
       "      <td>A woman has 1 ball. A man gives 9 balls to the...</td>\n",
       "      <td>There's a ball. A man gives 9 balls to the wom...</td>\n",
       "      <td>A woman has 1 ball. An unidentified man gave h...</td>\n",
       "      <td>A woman has 1 ball. A man gives 9 balls to the...</td>\n",
       "      <td>There's a ball. An unidentified man gave her n...</td>\n",
       "      <td>NaN</td>\n",
       "      <td>NaN</td>\n",
       "    </tr>\n",
       "    <tr>\n",
       "      <th>2</th>\n",
       "      <td>A boy has 8 bananas. A girl gives 1 banana to ...</td>\n",
       "      <td>One boy has 8 bananas in his hand. A girl give...</td>\n",
       "      <td>A boy has 8 bananas. A girl gave him a banana....</td>\n",
       "      <td>A boy has 8 bananas. A girl gives 1 banana to ...</td>\n",
       "      <td>One boy has 8 bananas in his hand. A girl gave...</td>\n",
       "      <td>NaN</td>\n",
       "      <td>NaN</td>\n",
       "    </tr>\n",
       "    <tr>\n",
       "      <th>3</th>\n",
       "      <td>A girl has 3 melons. A boy gives 6 melons to t...</td>\n",
       "      <td>A girl is wearing a lot of melons. A boy gives...</td>\n",
       "      <td>A girl has 3 melons. A boy gives her a handful...</td>\n",
       "      <td>A girl has 3 melons. A boy gives 6 melons to t...</td>\n",
       "      <td>A girl is wearing a lot of melons. A boy gives...</td>\n",
       "      <td>NaN</td>\n",
       "      <td>NaN</td>\n",
       "    </tr>\n",
       "    <tr>\n",
       "      <th>4</th>\n",
       "      <td>A restaurant has 175 normal chairs and 20 juni...</td>\n",
       "      <td>A restaurant has 175 standard seats and 20 jun...</td>\n",
       "      <td>A restaurant has 175 normal chairs and 20 juni...</td>\n",
       "      <td>A restaurant has 175 standard seats and 20 jun...</td>\n",
       "      <td>NaN</td>\n",
       "      <td>NaN</td>\n",
       "      <td>NaN</td>\n",
       "    </tr>\n",
       "  </tbody>\n",
       "</table>\n",
       "</div>"
      ],
      "text/plain": [
       "                                                   0  \\\n",
       "0  A man has 3 apples. A woman gives 4 apples to ...   \n",
       "1  A woman has 1 ball. A man gives 9 balls to the...   \n",
       "2  A boy has 8 bananas. A girl gives 1 banana to ...   \n",
       "3  A girl has 3 melons. A boy gives 6 melons to t...   \n",
       "4  A restaurant has 175 normal chairs and 20 juni...   \n",
       "\n",
       "                                                   1  \\\n",
       "0  I'll have three apples. A woman gives 4 apples...   \n",
       "1  There's a ball. A man gives 9 balls to the wom...   \n",
       "2  One boy has 8 bananas in his hand. A girl give...   \n",
       "3  A girl is wearing a lot of melons. A boy gives...   \n",
       "4  A restaurant has 175 standard seats and 20 jun...   \n",
       "\n",
       "                                                   2  \\\n",
       "0  A man has 3 apples. She gives him four apples....   \n",
       "1  A woman has 1 ball. An unidentified man gave h...   \n",
       "2  A boy has 8 bananas. A girl gave him a banana....   \n",
       "3  A girl has 3 melons. A boy gives her a handful...   \n",
       "4  A restaurant has 175 normal chairs and 20 juni...   \n",
       "\n",
       "                                                   3  \\\n",
       "0  A man has 3 apples. A woman gives 4 apples to ...   \n",
       "1  A woman has 1 ball. A man gives 9 balls to the...   \n",
       "2  A boy has 8 bananas. A girl gives 1 banana to ...   \n",
       "3  A girl has 3 melons. A boy gives 6 melons to t...   \n",
       "4  A restaurant has 175 standard seats and 20 jun...   \n",
       "\n",
       "                                                   4    5    6  \n",
       "0  I'll have three apples. She gives him four app...  NaN  NaN  \n",
       "1  There's a ball. An unidentified man gave her n...  NaN  NaN  \n",
       "2  One boy has 8 bananas in his hand. A girl gave...  NaN  NaN  \n",
       "3  A girl is wearing a lot of melons. A boy gives...  NaN  NaN  \n",
       "4                                                NaN  NaN  NaN  "
      ]
     },
     "execution_count": 42,
     "metadata": {},
     "output_type": "execute_result"
    }
   ],
   "source": [
    "df1 = pd.read_csv(data_dir+'gen_1_pairs.csv')\n",
    "df1.head()\n",
    "\n",
    "\n",
    "df1 = pd.read_csv(data_dir+'gen_1_perm_true_lt_a_9_f_9_table.csv')\n",
    "df1.head()"
   ]
  },
  {
   "cell_type": "code",
   "execution_count": 6,
   "metadata": {},
   "outputs": [],
   "source": [
    "df1.columns=['target_text', 'input_text']"
   ]
  },
  {
   "cell_type": "code",
   "execution_count": 8,
   "metadata": {},
   "outputs": [],
   "source": [
    "df1  = df1[['input_text', 'target_text']]"
   ]
  },
  {
   "cell_type": "code",
   "execution_count": 10,
   "metadata": {},
   "outputs": [],
   "source": [
    "with open(data_dir+'gen_1_pairs.csv', 'w') as f:\n",
    "    df1.to_csv(f, index=False)"
   ]
  },
  {
   "cell_type": "code",
   "execution_count": 12,
   "metadata": {},
   "outputs": [
    {
     "data": {
      "text/html": [
       "<div>\n",
       "<style scoped>\n",
       "    .dataframe tbody tr th:only-of-type {\n",
       "        vertical-align: middle;\n",
       "    }\n",
       "\n",
       "    .dataframe tbody tr th {\n",
       "        vertical-align: top;\n",
       "    }\n",
       "\n",
       "    .dataframe thead th {\n",
       "        text-align: right;\n",
       "    }\n",
       "</style>\n",
       "<table border=\"1\" class=\"dataframe\">\n",
       "  <thead>\n",
       "    <tr style=\"text-align: right;\">\n",
       "      <th></th>\n",
       "      <th>input_text</th>\n",
       "      <th>target_text</th>\n",
       "    </tr>\n",
       "  </thead>\n",
       "  <tbody>\n",
       "    <tr>\n",
       "      <th>0</th>\n",
       "      <td>I'll have three apples. A woman gives 4 apples...</td>\n",
       "      <td>A man has 3 apples. A woman gives 4 apples to ...</td>\n",
       "    </tr>\n",
       "    <tr>\n",
       "      <th>1</th>\n",
       "      <td>A man has 3 apples. She gives him four apples....</td>\n",
       "      <td>A man has 3 apples. A woman gives 4 apples to ...</td>\n",
       "    </tr>\n",
       "    <tr>\n",
       "      <th>2</th>\n",
       "      <td>A man has 3 apples. A woman gives 4 apples to ...</td>\n",
       "      <td>A man has 3 apples. A woman gives 4 apples to ...</td>\n",
       "    </tr>\n",
       "    <tr>\n",
       "      <th>3</th>\n",
       "      <td>I'll have three apples. She gives him four app...</td>\n",
       "      <td>A man has 3 apples. A woman gives 4 apples to ...</td>\n",
       "    </tr>\n",
       "    <tr>\n",
       "      <th>4</th>\n",
       "      <td>There's a ball. A man gives 9 balls to the wom...</td>\n",
       "      <td>A woman has 1 ball. A man gives 9 balls to the...</td>\n",
       "    </tr>\n",
       "  </tbody>\n",
       "</table>\n",
       "</div>"
      ],
      "text/plain": [
       "                                          input_text  \\\n",
       "0  I'll have three apples. A woman gives 4 apples...   \n",
       "1  A man has 3 apples. She gives him four apples....   \n",
       "2  A man has 3 apples. A woman gives 4 apples to ...   \n",
       "3  I'll have three apples. She gives him four app...   \n",
       "4  There's a ball. A man gives 9 balls to the wom...   \n",
       "\n",
       "                                         target_text  \n",
       "0  A man has 3 apples. A woman gives 4 apples to ...  \n",
       "1  A man has 3 apples. A woman gives 4 apples to ...  \n",
       "2  A man has 3 apples. A woman gives 4 apples to ...  \n",
       "3  A man has 3 apples. A woman gives 4 apples to ...  \n",
       "4  A woman has 1 ball. A man gives 9 balls to the...  "
      ]
     },
     "execution_count": 12,
     "metadata": {},
     "output_type": "execute_result"
    }
   ],
   "source": [
    "df1.head()"
   ]
  },
  {
   "cell_type": "code",
   "execution_count": 6,
   "metadata": {},
   "outputs": [],
   "source": [
    "d = dict()\n",
    "for k, v in df1.iterrows():\n",
    "    if v[1] in d:\n",
    "        d[v[1]].append(v[0])\n",
    "    else:\n",
    "        d[v[1]] = [v[0]]\n",
    "\n",
    "ls = []\n",
    "for k, v in d.items():\n",
    "    ls.append([k]+v)\n",
    "\n",
    "df2 = pd.DataFrame(ls)"
   ]
  },
  {
   "cell_type": "code",
   "execution_count": 7,
   "metadata": {},
   "outputs": [],
   "source": [
    "with open(data_dir+'gen_1_perm_true_lt_a_9_f_9_table.csv', 'w') as f:\n",
    "    df2.to_csv(f, index=False)"
   ]
  },
  {
   "cell_type": "code",
   "execution_count": null,
   "metadata": {},
   "outputs": [],
   "source": []
  }
 ],
 "metadata": {
  "interpreter": {
   "hash": "8b3dd3ec0ad80d1bbada041b9256793a722c712a1bfa06419e06e826fad6496b"
  },
  "kernelspec": {
   "display_name": "Python 3.8.10 64-bit ('venv': venv)",
   "language": "python",
   "name": "python3"
  },
  "language_info": {
   "codemirror_mode": {
    "name": "ipython",
    "version": 3
   },
   "file_extension": ".py",
   "mimetype": "text/x-python",
   "name": "python",
   "nbconvert_exporter": "python",
   "pygments_lexer": "ipython3",
   "version": "3.8.10"
  },
  "orig_nbformat": 4
 },
 "nbformat": 4,
 "nbformat_minor": 2
}
