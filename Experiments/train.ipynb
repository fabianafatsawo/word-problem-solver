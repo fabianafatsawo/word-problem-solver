{
 "cells": [
  {
   "cell_type": "code",
   "execution_count": 1,
   "metadata": {},
   "outputs": [],
   "source": [
    "import pandas as pd\n",
    "from sklearn.model_selection import train_test_split\n",
    "import sklearn\n",
    "from simpletransformers.seq2seq import Seq2SeqModel, Seq2SeqArgs\n",
    "import numpy as np"
   ]
  },
  {
   "cell_type": "code",
   "execution_count": 2,
   "metadata": {},
   "outputs": [],
   "source": [
    "data_dir = 'data/'\n",
    "df = pd.read_csv(data_dir+'gen_2_pairs.csv')\n",
    "df[\"prefix\"] = \"nltocl\"\n",
    "df = df[[\"prefix\", \"input_text\", \"target_text\"]]\n",
    "q_train, q_test = train_test_split(df, random_state=10)\n"
   ]
  },
  {
   "cell_type": "code",
   "execution_count": 3,
   "metadata": {},
   "outputs": [
    {
     "data": {
      "text/plain": [
       "((322, 3), (108, 3))"
      ]
     },
     "execution_count": 3,
     "metadata": {},
     "output_type": "execute_result"
    }
   ],
   "source": [
    "q_train.shape, q_test.shape"
   ]
  },
  {
   "cell_type": "code",
   "execution_count": 4,
   "metadata": {},
   "outputs": [
    {
     "data": {
      "text/html": [
       "<div>\n",
       "<style scoped>\n",
       "    .dataframe tbody tr th:only-of-type {\n",
       "        vertical-align: middle;\n",
       "    }\n",
       "\n",
       "    .dataframe tbody tr th {\n",
       "        vertical-align: top;\n",
       "    }\n",
       "\n",
       "    .dataframe thead th {\n",
       "        text-align: right;\n",
       "    }\n",
       "</style>\n",
       "<table border=\"1\" class=\"dataframe\">\n",
       "  <thead>\n",
       "    <tr style=\"text-align: right;\">\n",
       "      <th></th>\n",
       "      <th>prefix</th>\n",
       "      <th>input_text</th>\n",
       "      <th>target_text</th>\n",
       "    </tr>\n",
       "  </thead>\n",
       "  <tbody>\n",
       "    <tr>\n",
       "      <th>27</th>\n",
       "      <td>nltocl</td>\n",
       "      <td>A store has 375 black shirts and 40 white shir...</td>\n",
       "      <td>A store has 375 black shirts and 40 white shir...</td>\n",
       "    </tr>\n",
       "    <tr>\n",
       "      <th>295</th>\n",
       "      <td>nltocl</td>\n",
       "      <td>An store has 52 cars. In each vehicle there ar...</td>\n",
       "      <td>An store has 52 cars. Each car has 4 doors. Ea...</td>\n",
       "    </tr>\n",
       "    <tr>\n",
       "      <th>116</th>\n",
       "      <td>nltocl</td>\n",
       "      <td>A man has a thousand ants in his stomach. He s...</td>\n",
       "      <td>A man has 1000 ants. He sells 213 ants. How ma...</td>\n",
       "    </tr>\n",
       "    <tr>\n",
       "      <th>105</th>\n",
       "      <td>nltocl</td>\n",
       "      <td>A dog has 2 birds. 1 bird flees from the dog. ...</td>\n",
       "      <td>A dog has 2 birds. 1 bird flees from the dog. ...</td>\n",
       "    </tr>\n",
       "    <tr>\n",
       "      <th>146</th>\n",
       "      <td>nltocl</td>\n",
       "      <td>Mom has ten cookies. Three cookies are given t...</td>\n",
       "      <td>A mother has 10 cookies. The mother gives 3 co...</td>\n",
       "    </tr>\n",
       "  </tbody>\n",
       "</table>\n",
       "</div>"
      ],
      "text/plain": [
       "     prefix                                         input_text  \\\n",
       "27   nltocl  A store has 375 black shirts and 40 white shir...   \n",
       "295  nltocl  An store has 52 cars. In each vehicle there ar...   \n",
       "116  nltocl  A man has a thousand ants in his stomach. He s...   \n",
       "105  nltocl  A dog has 2 birds. 1 bird flees from the dog. ...   \n",
       "146  nltocl  Mom has ten cookies. Three cookies are given t...   \n",
       "\n",
       "                                           target_text  \n",
       "27   A store has 375 black shirts and 40 white shir...  \n",
       "295  An store has 52 cars. Each car has 4 doors. Ea...  \n",
       "116  A man has 1000 ants. He sells 213 ants. How ma...  \n",
       "105  A dog has 2 birds. 1 bird flees from the dog. ...  \n",
       "146  A mother has 10 cookies. The mother gives 3 co...  "
      ]
     },
     "execution_count": 4,
     "metadata": {},
     "output_type": "execute_result"
    }
   ],
   "source": [
    "q_train.head()"
   ]
  },
  {
   "cell_type": "code",
   "execution_count": 5,
   "metadata": {},
   "outputs": [],
   "source": [
    "# Model arguments\n",
    "model_args = Seq2SeqArgs()\n",
    "\n",
    "model_args.num_return_sequences = 1\n",
    "model_args.max_length = 256\n",
    "model_args.top_k = 50\n",
    "model_args.top_p = 0.95\n",
    "\n",
    "model_args.wandb_project = \"NL to CL with BART\""
   ]
  },
  {
   "cell_type": "code",
   "execution_count": 6,
   "metadata": {},
   "outputs": [],
   "source": [
    "prefix=\"nltocl:\"\n",
    "model = Seq2SeqModel(\n",
    "    encoder_decoder_type=\"bart\",\n",
    "    encoder_decoder_name=\"/home/fabian/Documents/2021-2022/word-problem-solver/Experiments/models/20211207153056\",\n",
    "    args=model_args,\n",
    "    use_cuda=True\n",
    ")"
   ]
  },
  {
   "cell_type": "code",
   "execution_count": 7,
   "metadata": {},
   "outputs": [
    {
     "name": "stderr",
     "output_type": "stream",
     "text": [
      "Generating outputs: 100%|██████████| 1/1 [00:00<00:00,  7.07it/s]\n"
     ]
    },
    {
     "data": {
      "text/plain": [
       "['A restaurant has 175 normal chairs and 20 chairs for babies. How many chairs does the restaurant have?']"
      ]
     },
     "execution_count": 7,
     "metadata": {},
     "output_type": "execute_result"
    }
   ],
   "source": [
    "model.predict([\"The restaurant did had 175 normal chairs and 20 chairs for babies. How many does the restaurant have in total?\"])"
   ]
  },
  {
   "cell_type": "code",
   "execution_count": 9,
   "metadata": {},
   "outputs": [
    {
     "name": "stderr",
     "output_type": "stream",
     "text": [
      "Generating outputs: 100%|██████████| 1/1 [00:00<00:00,  3.25it/s]\n"
     ]
    },
    {
     "data": {
      "text/plain": [
       "['A dog has 1 mistletoe. The dog eats 1 flower.',\n",
       " 'A dog takes 4 bolts. The dog removes 1 fiber from every fiber and 1 fiber gets 1 bolt from every fibre. How many bolts does it take?',\n",
       " 'A boy has 2 apples. A girlfriend gets 2 apples from a store. How many apples does the boy have?',\n",
       " 'Anltocl:James runs 3 sprints 3 times a week.  He runs 60 meters each sprint. How many meters does he run a week?']"
      ]
     },
     "execution_count": 9,
     "metadata": {},
     "output_type": "execute_result"
    }
   ],
   "source": [
    "sentences = [\"The mistletoe will take 4 bolts. The dog eats a flower.\",\n",
    "\"A dog takes 4 bolts. The of blue fiber and half that much white fiber. How many bolts in total does it take?\",\n",
    "\"The boy has 2 apples. His girlfriend gets 2 apples. What is the amount of apples he has?\",\n",
    "\"James decides to run 3 sprints 3 times a week.  He runs 60 meters each sprint.  How many total meters does he run a week?\"\n",
    "]\n",
    "sentences = [prefix+s for s in sentences]\n",
    "model.predict(sentences)"
   ]
  },
  {
   "cell_type": "code",
   "execution_count": 10,
   "metadata": {},
   "outputs": [
    {
     "name": "stderr",
     "output_type": "stream",
     "text": [
      "Generating outputs: 100%|██████████| 14/14 [00:05<00:00,  2.48it/s]"
     ]
    },
    {
     "name": "stdout",
     "output_type": "stream",
     "text": [
      "avg_p: 0.6111111111111112\n"
     ]
    },
    {
     "name": "stderr",
     "output_type": "stream",
     "text": [
      "\n"
     ]
    },
    {
     "data": {
      "text/plain": [
       "0.6111111111111112"
      ]
     },
     "execution_count": 10,
     "metadata": {},
     "output_type": "execute_result"
    }
   ],
   "source": [
    "def avg_p(labels, preds):\n",
    "    check = labels == preds\n",
    "    invert = np.invert(check)\n",
    "    return check.mean(), invert\n",
    "\n",
    "def custom_eval(df, f=avg_p, print_errors=False):\n",
    "    labels = np.array(df['target_text'].tolist())\n",
    "    input_text = df['input_text'].tolist()\n",
    "    preds = np.array(model.predict(input_text))\n",
    "    input_text = np.array(input_text)\n",
    "    score, mask = f(labels, preds)\n",
    "    labels = labels[mask]\n",
    "    preds = preds[mask]\n",
    "    print(f'{f.__name__}: {score}')\n",
    "    if print_errors:\n",
    "        for l, p in zip(labels, preds):\n",
    "            print(l)\n",
    "            print(p)\n",
    "            print()\n",
    "    return score\n",
    "\n",
    "custom_eval(q_test)\n"
   ]
  },
  {
   "cell_type": "code",
   "execution_count": 11,
   "metadata": {},
   "outputs": [
    {
     "name": "stderr",
     "output_type": "stream",
     "text": [
      "Generating outputs: 100%|██████████| 41/41 [00:17<00:00,  2.38it/s]"
     ]
    },
    {
     "name": "stdout",
     "output_type": "stream",
     "text": [
      "avg_p: 0.7236024844720497\n"
     ]
    },
    {
     "name": "stderr",
     "output_type": "stream",
     "text": [
      "\n"
     ]
    },
    {
     "data": {
      "text/plain": [
       "0.7236024844720497"
      ]
     },
     "execution_count": 11,
     "metadata": {},
     "output_type": "execute_result"
    }
   ],
   "source": [
    "custom_eval(q_train)\n"
   ]
  },
  {
   "cell_type": "code",
   "execution_count": 13,
   "metadata": {},
   "outputs": [
    {
     "name": "stderr",
     "output_type": "stream",
     "text": [
      "Generating outputs: 100%|██████████| 14/14 [00:05<00:00,  2.45it/s]"
     ]
    },
    {
     "name": "stdout",
     "output_type": "stream",
     "text": [
      "avg_p: 0.6851851851851852\n"
     ]
    },
    {
     "name": "stderr",
     "output_type": "stream",
     "text": [
      "\n"
     ]
    },
    {
     "data": {
      "text/plain": [
       "0.6851851851851852"
      ]
     },
     "execution_count": 13,
     "metadata": {},
     "output_type": "execute_result"
    }
   ],
   "source": [
    "labels = q_test['target_text'].tolist()\n",
    "pdf = pd.DataFrame(zip(labels, labels), columns=['input_text', 'target_text'])\n",
    "custom_eval(pdf)\n"
   ]
  },
  {
   "cell_type": "code",
   "execution_count": null,
   "metadata": {},
   "outputs": [],
   "source": [
    "model.eval_model(q_train)\n",
    "from os.path import basename\n",
    "\n",
    "basename()"
   ]
  },
  {
   "cell_type": "code",
   "execution_count": null,
   "metadata": {},
   "outputs": [],
   "source": []
  }
 ],
 "metadata": {
  "interpreter": {
   "hash": "8b3dd3ec0ad80d1bbada041b9256793a722c712a1bfa06419e06e826fad6496b"
  },
  "kernelspec": {
   "display_name": "Python 3.8.10 64-bit ('venv': venv)",
   "language": "python",
   "name": "python3"
  },
  "language_info": {
   "codemirror_mode": {
    "name": "ipython",
    "version": 3
   },
   "file_extension": ".py",
   "mimetype": "text/x-python",
   "name": "python",
   "nbconvert_exporter": "python",
   "pygments_lexer": "ipython3",
   "version": "3.8.10"
  },
  "orig_nbformat": 4
 },
 "nbformat": 4,
 "nbformat_minor": 2
}
