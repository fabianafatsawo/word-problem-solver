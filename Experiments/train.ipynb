{
 "cells": [
  {
   "cell_type": "code",
   "execution_count": 1,
   "metadata": {},
   "outputs": [],
   "source": [
    "import pandas as pd\n",
    "import sklearn\n",
    "from sklearn.model_selection import train_test_split\n",
    "from simpletransformers.seq2seq import Seq2SeqModel, Seq2SeqArgs\n",
    "import numpy as np\n",
    "import difflib"
   ]
  },
  {
   "cell_type": "code",
   "execution_count": 2,
   "metadata": {},
   "outputs": [],
   "source": [
    "def avg_p(labels, preds):\n",
    "    if isinstance(labels, list):\n",
    "        labels = np.array(labels)\n",
    "    if isinstance(preds, list):\n",
    "        preds = np.array(preds)\n",
    "    check = labels == preds\n",
    "    invert = np.invert(check)\n",
    "    return check.mean(), invert\n",
    "\n",
    "class Experiment:\n",
    "    def __init__(self, model_name=\"20211207153056\", model_path=\"/home/fabian/Documents/2021-2022/word-problem-solver/Experiments/models/\", use_cuda=True) -> None:\n",
    "        self.model = self.init_model(model_name, model_path, use_cuda)\n",
    "        self.prefix = \"nltocl:\"\n",
    "\n",
    "    def init_model(self, model_name, model_path, use_cuda=True):\n",
    "        # Model arguments\n",
    "        model_args = Seq2SeqArgs()\n",
    "\n",
    "        model_args.num_return_sequences = 1\n",
    "        model_args.max_length = 256\n",
    "        model_args.top_k = 50\n",
    "        model_args.top_p = 0.95\n",
    "\n",
    "        model_args.wandb_project = \"NL to CL with BART\"\n",
    "        model = Seq2SeqModel(\n",
    "            encoder_decoder_type=\"bart\",\n",
    "            encoder_decoder_name=model_path+model_name,\n",
    "            args=model_args,\n",
    "            use_cuda=use_cuda\n",
    "        )\n",
    "        return model\n",
    "\n",
    "    def difference(self, labels, preds, show_output=True):\n",
    "        cases = zip(preds, labels)\n",
    "        outputs = []\n",
    "        for a,b in cases:\n",
    "            output = ['pred  : {}\\n=>\\nlabel : {}'.format(a,b)]\n",
    "            if show_output:     \n",
    "                print(output[0])\n",
    "            del_word = []\n",
    "            add_word = []\n",
    "            for i,s in enumerate(difflib.ndiff(a, b)):\n",
    "                if s[0]==' ':\n",
    "                    if len(del_word):\n",
    "                        output.append(\"\".join(del_word))\n",
    "                    if len(add_word):\n",
    "                        output.append(\"\".join(add_word))\n",
    "                    if show_output:\n",
    "                        if len(del_word):\n",
    "                            print(\"\".join(del_word))\n",
    "                        if len(add_word):\n",
    "                            print(\"\".join(add_word))\n",
    "                    del_word = []\n",
    "                    add_word = []\n",
    "                    continue\n",
    "                elif s[0]=='-':\n",
    "                    if not len(del_word):\n",
    "                        del_word.append(f'-- {i} : ')\n",
    "                    del_word.append(s[-1])\n",
    "                elif s[0]=='+':\n",
    "                    if not len(add_word):\n",
    "                        add_word.append(f'++ {i} : ')\n",
    "                    add_word.append(s[-1])\n",
    "            outputs.append(\"\\n\".join(output))\n",
    "            if show_output:\n",
    "                print()\n",
    "        return outputs\n",
    "\n",
    "    def calculate_difference(self, labels, preds,f=avg_p, lower=False, show_output=False):\n",
    "        if isinstance(labels, list):\n",
    "            labels = np.array(labels)\n",
    "        if isinstance(preds, list):\n",
    "            preds = np.array(preds)\n",
    "        if lower:\n",
    "            labels = np.char.lower(labels)\n",
    "            preds = np.char.lower(preds)\n",
    "\n",
    "        score, mask = f(labels, preds)\n",
    "        outputs = self.difference(labels[mask], preds[mask], show_output=show_output)\n",
    "        print(f'- {f.__name__}: {score}')\n",
    "        return outputs, mask\n",
    "\n",
    "    def custom_eval(self, df, f=avg_p, lower=False):\n",
    "        labels = np.array(df['target_text'].tolist())\n",
    "        input_text = df['input_text'].tolist()\n",
    "        preds = np.array(self.model.predict(input_text))\n",
    "        input_text = np.array(input_text)\n",
    "        outputs, mask = self.calculate_difference(labels, preds, lower=lower, show_output=False)\n",
    "        return outputs, labels, preds, mask\n",
    "\n",
    "    def eval_train_test(self, train_df, test_df, lower=False):\n",
    "        print('Eval train:')\n",
    "        outputs_train, labels_train, preds_train, mask_train = self.custom_eval(train_df, lower=lower)\n",
    "        print('\\nEval test:')\n",
    "        outputs_test, labels_test, preds_test, mask_test = self.custom_eval(test_df, lower=lower)\n",
    "        return {\"train\":{\"outputs\":outputs_train, \"labels\":labels_train, \"preds\":preds_train, \"mask\":mask_train},\\\n",
    "               \"test\":{\"outputs\":outputs_test, \"labels\":labels_test, \"preds\":preds_test, \"mask\":mask_test}}\n",
    "\n",
    "    def predict(self, problems):\n",
    "        if isinstance(problems, str):\n",
    "            problems = [problems]\n",
    "        return self.model.predict(problems)\n",
    "\n",
    "E = Experiment(model_name=\"20211211182517\") "
   ]
  },
  {
   "cell_type": "code",
   "execution_count": 15,
   "metadata": {},
   "outputs": [
    {
     "name": "stderr",
     "output_type": "stream",
     "text": [
      "Generating outputs: 100%|██████████| 1/1 [00:00<00:00,  4.61it/s]\n"
     ]
    },
    {
     "data": {
      "text/plain": [
       "['A man has 4 apples. A woman puts 4 apples in the apple. How many apples does the man have?']"
      ]
     },
     "execution_count": 15,
     "metadata": {},
     "output_type": "execute_result"
    }
   ],
   "source": [
    "E.predict([\"nltocl:A man Mike had 4 apples.\"])"
   ]
  },
  {
   "cell_type": "code",
   "execution_count": 3,
   "metadata": {},
   "outputs": [
    {
     "name": "stderr",
     "output_type": "stream",
     "text": [
      "Generating outputs: 100%|██████████| 1/1 [00:00<00:00,  3.66it/s]\n"
     ]
    },
    {
     "data": {
      "text/plain": [
       "['A man has 1 apples. A woman gives 3 apples to the man. How many apples does the man have?']"
      ]
     },
     "execution_count": 3,
     "metadata": {},
     "output_type": "execute_result"
    }
   ],
   "source": [
    "E.predict([\"A man used to have 1 apples. A woman gave 3 apples to the man. How many apples did the man have?\"])"
   ]
  },
  {
   "cell_type": "code",
   "execution_count": 5,
   "metadata": {},
   "outputs": [
    {
     "name": "stdout",
     "output_type": "stream",
     "text": [
      "(322, 3) (108, 3)\n"
     ]
    },
    {
     "data": {
      "text/html": [
       "<div>\n",
       "<style scoped>\n",
       "    .dataframe tbody tr th:only-of-type {\n",
       "        vertical-align: middle;\n",
       "    }\n",
       "\n",
       "    .dataframe tbody tr th {\n",
       "        vertical-align: top;\n",
       "    }\n",
       "\n",
       "    .dataframe thead th {\n",
       "        text-align: right;\n",
       "    }\n",
       "</style>\n",
       "<table border=\"1\" class=\"dataframe\">\n",
       "  <thead>\n",
       "    <tr style=\"text-align: right;\">\n",
       "      <th></th>\n",
       "      <th>prefix</th>\n",
       "      <th>input_text</th>\n",
       "      <th>target_text</th>\n",
       "    </tr>\n",
       "  </thead>\n",
       "  <tbody>\n",
       "    <tr>\n",
       "      <th>27</th>\n",
       "      <td>nltocl</td>\n",
       "      <td>A store has 375 black shirts and 40 white shir...</td>\n",
       "      <td>A store has 375 black shirts and 40 white shir...</td>\n",
       "    </tr>\n",
       "    <tr>\n",
       "      <th>295</th>\n",
       "      <td>nltocl</td>\n",
       "      <td>An store has 52 cars. In each vehicle there ar...</td>\n",
       "      <td>An store has 52 cars. Each car has 4 doors. Ea...</td>\n",
       "    </tr>\n",
       "    <tr>\n",
       "      <th>116</th>\n",
       "      <td>nltocl</td>\n",
       "      <td>A man has a thousand ants in his stomach. He s...</td>\n",
       "      <td>A man has 1000 ants. He sells 213 ants. How ma...</td>\n",
       "    </tr>\n",
       "    <tr>\n",
       "      <th>105</th>\n",
       "      <td>nltocl</td>\n",
       "      <td>A dog has 2 birds. 1 bird flees from the dog. ...</td>\n",
       "      <td>A dog has 2 birds. 1 bird flees from the dog. ...</td>\n",
       "    </tr>\n",
       "    <tr>\n",
       "      <th>146</th>\n",
       "      <td>nltocl</td>\n",
       "      <td>Mom has ten cookies. Three cookies are given t...</td>\n",
       "      <td>A mother has 10 cookies. The mother gives 3 co...</td>\n",
       "    </tr>\n",
       "  </tbody>\n",
       "</table>\n",
       "</div>"
      ],
      "text/plain": [
       "     prefix                                         input_text  \\\n",
       "27   nltocl  A store has 375 black shirts and 40 white shir...   \n",
       "295  nltocl  An store has 52 cars. In each vehicle there ar...   \n",
       "116  nltocl  A man has a thousand ants in his stomach. He s...   \n",
       "105  nltocl  A dog has 2 birds. 1 bird flees from the dog. ...   \n",
       "146  nltocl  Mom has ten cookies. Three cookies are given t...   \n",
       "\n",
       "                                           target_text  \n",
       "27   A store has 375 black shirts and 40 white shir...  \n",
       "295  An store has 52 cars. Each car has 4 doors. Ea...  \n",
       "116  A man has 1000 ants. He sells 213 ants. How ma...  \n",
       "105  A dog has 2 birds. 1 bird flees from the dog. ...  \n",
       "146  A mother has 10 cookies. The mother gives 3 co...  "
      ]
     },
     "execution_count": 5,
     "metadata": {},
     "output_type": "execute_result"
    }
   ],
   "source": [
    "data_dir = 'data/'\n",
    "df = pd.read_csv(data_dir+'gen_2_pairs.csv')\n",
    "df[\"prefix\"] = \"nltocl\"\n",
    "df = df[[\"prefix\", \"input_text\", \"target_text\"]]\n",
    "q_train, q_test = train_test_split(df, random_state=10)\n",
    "print(q_train.shape, q_test.shape)\n",
    "q_train.head()"
   ]
  },
  {
   "cell_type": "code",
   "execution_count": 6,
   "metadata": {},
   "outputs": [
    {
     "data": {
      "text/html": [
       "<div>\n",
       "<style scoped>\n",
       "    .dataframe tbody tr th:only-of-type {\n",
       "        vertical-align: middle;\n",
       "    }\n",
       "\n",
       "    .dataframe tbody tr th {\n",
       "        vertical-align: top;\n",
       "    }\n",
       "\n",
       "    .dataframe thead th {\n",
       "        text-align: right;\n",
       "    }\n",
       "</style>\n",
       "<table border=\"1\" class=\"dataframe\">\n",
       "  <thead>\n",
       "    <tr style=\"text-align: right;\">\n",
       "      <th></th>\n",
       "      <th>index</th>\n",
       "      <th>problem</th>\n",
       "      <th>answer</th>\n",
       "    </tr>\n",
       "  </thead>\n",
       "  <tbody>\n",
       "    <tr>\n",
       "      <th>0</th>\n",
       "      <td>1.1.1</td>\n",
       "      <td>A man had 3 apples. A woman gave 4 apples to t...</td>\n",
       "      <td>7</td>\n",
       "    </tr>\n",
       "    <tr>\n",
       "      <th>1</th>\n",
       "      <td>1.1.2</td>\n",
       "      <td>A woman had 1 ball. A man gave 9 balls to the ...</td>\n",
       "      <td>10</td>\n",
       "    </tr>\n",
       "    <tr>\n",
       "      <th>2</th>\n",
       "      <td>1.1.3</td>\n",
       "      <td>A boy had 8 bananas. A girl gave 1 banana to t...</td>\n",
       "      <td>9</td>\n",
       "    </tr>\n",
       "    <tr>\n",
       "      <th>3</th>\n",
       "      <td>1.1.4</td>\n",
       "      <td>A girl had 3 melons. A boy gave 6 melons to th...</td>\n",
       "      <td>9</td>\n",
       "    </tr>\n",
       "    <tr>\n",
       "      <th>4</th>\n",
       "      <td>1.2.1</td>\n",
       "      <td>A restaurant had 175 normal chairs and 20 juni...</td>\n",
       "      <td>195</td>\n",
       "    </tr>\n",
       "  </tbody>\n",
       "</table>\n",
       "</div>"
      ],
      "text/plain": [
       "   index                                            problem  answer\n",
       "0  1.1.1  A man had 3 apples. A woman gave 4 apples to t...       7\n",
       "1  1.1.2  A woman had 1 ball. A man gave 9 balls to the ...      10\n",
       "2  1.1.3  A boy had 8 bananas. A girl gave 1 banana to t...       9\n",
       "3  1.1.4  A girl had 3 melons. A boy gave 6 melons to th...       9\n",
       "4  1.2.1  A restaurant had 175 normal chairs and 20 juni...     195"
      ]
     },
     "execution_count": 6,
     "metadata": {},
     "output_type": "execute_result"
    }
   ],
   "source": [
    "present_simple =  pd.read_csv(data_dir+'ACE - Word Problems - Present Simple.csv')\n",
    "past_simple = pd.read_csv(data_dir+'ACE - Word Problems - Past Simple.csv')\n",
    "past_simple.head()"
   ]
  },
  {
   "cell_type": "code",
   "execution_count": 10,
   "metadata": {},
   "outputs": [
    {
     "name": "stderr",
     "output_type": "stream",
     "text": [
      "Generating outputs: 100%|██████████| 10/10 [00:03<00:00,  2.81it/s]"
     ]
    },
    {
     "name": "stdout",
     "output_type": "stream",
     "text": [
      "- avg_p: 0.7125\n",
      "lower:\n",
      "- avg_p: 0.775\n"
     ]
    },
    {
     "name": "stderr",
     "output_type": "stream",
     "text": [
      "\n"
     ]
    }
   ],
   "source": [
    "labels = present_simple['problem'].tolist()\n",
    "past_simple_pred = E.predict(past_simple['problem'].tolist())\n",
    "\n",
    "past_simple_results = E.calculate_difference(labels=labels, preds=past_simple_pred)\n",
    "print('lower:')\n",
    "past_simple_results_lower = E.calculate_difference(labels=labels, preds=past_simple_pred, lower=True)"
   ]
  },
  {
   "cell_type": "code",
   "execution_count": 11,
   "metadata": {},
   "outputs": [
    {
     "name": "stdout",
     "output_type": "stream",
     "text": [
      "Eval train:\n"
     ]
    },
    {
     "name": "stderr",
     "output_type": "stream",
     "text": [
      "Generating outputs: 100%|██████████| 41/41 [00:17<00:00,  2.40it/s]\n"
     ]
    },
    {
     "name": "stdout",
     "output_type": "stream",
     "text": [
      "- avg_p: 0.7515527950310559\n",
      "\n",
      "Eval test:\n"
     ]
    },
    {
     "name": "stderr",
     "output_type": "stream",
     "text": [
      "Generating outputs: 100%|██████████| 14/14 [00:05<00:00,  2.46it/s]"
     ]
    },
    {
     "name": "stdout",
     "output_type": "stream",
     "text": [
      "- avg_p: 0.7222222222222222\n"
     ]
    },
    {
     "name": "stderr",
     "output_type": "stream",
     "text": [
      "\n"
     ]
    }
   ],
   "source": [
    "results = E.eval_train_test(train_df=q_train, test_df=q_test, lower=True)"
   ]
  },
  {
   "cell_type": "code",
   "execution_count": 136,
   "metadata": {},
   "outputs": [
    {
     "name": "stdout",
     "output_type": "stream",
     "text": [
      "pred  : a mother has 10 cookies. the mother gives 3 cookies to a son. the woman gives 6 cookies to an aunt. how many cookies does the mother have?\n",
      "=>\n",
      "label : a mother has 10 cookies. the mother gives 3 cookies to a son. the mother gives 6 cookies to a daughter. how many cookies does the mother have?\n",
      "-- 66 : w\n",
      "++ 67 : m\n",
      "-- 69 : man\n",
      "++ 72 : ther\n",
      "-- 97 : n\n",
      "++ 99 : d\n",
      "-- 102 : n\n",
      "++ 103 : gh\n",
      "++ 106 : er\n"
     ]
    }
   ],
   "source": [
    "print(results['train']['outputs'][0])"
   ]
  },
  {
   "cell_type": "code",
   "execution_count": 8,
   "metadata": {},
   "outputs": [],
   "source": [
    "E2 = Experiment(model_name=\"20211207153056\")"
   ]
  },
  {
   "cell_type": "code",
   "execution_count": 14,
   "metadata": {},
   "outputs": [
    {
     "name": "stdout",
     "output_type": "stream",
     "text": [
      "Eval train:\n"
     ]
    },
    {
     "name": "stderr",
     "output_type": "stream",
     "text": [
      "Generating outputs: 100%|██████████| 41/41 [00:17<00:00,  2.38it/s]\n"
     ]
    },
    {
     "name": "stdout",
     "output_type": "stream",
     "text": [
      "- avg_p: 0.7763975155279503\n",
      "\n",
      "Eval test:\n"
     ]
    },
    {
     "name": "stderr",
     "output_type": "stream",
     "text": [
      "Generating outputs: 100%|██████████| 14/14 [00:05<00:00,  2.48it/s]"
     ]
    },
    {
     "name": "stdout",
     "output_type": "stream",
     "text": [
      "- avg_p: 0.6666666666666666\n"
     ]
    },
    {
     "name": "stderr",
     "output_type": "stream",
     "text": [
      "\n"
     ]
    }
   ],
   "source": [
    "results = E2.eval_train_test(train_df=q_train, test_df=q_test, lower=True)"
   ]
  },
  {
   "cell_type": "code",
   "execution_count": 15,
   "metadata": {},
   "outputs": [
    {
     "name": "stderr",
     "output_type": "stream",
     "text": [
      "Generating outputs: 100%|██████████| 10/10 [00:03<00:00,  2.80it/s]"
     ]
    },
    {
     "name": "stdout",
     "output_type": "stream",
     "text": [
      "- avg_p: 0.7375\n",
      "lower:\n",
      "- avg_p: 0.8125\n"
     ]
    },
    {
     "name": "stderr",
     "output_type": "stream",
     "text": [
      "\n"
     ]
    }
   ],
   "source": [
    "labels = present_simple['problem'].tolist()\n",
    "present_simple_pred = E.predict(present_simple['problem'].tolist())\n",
    "\n",
    "present_simple_results = E.calculate_difference(labels=labels, preds=present_simple_pred)\n",
    "print('lower:')\n",
    "present_simple_results_lower = E.calculate_difference(labels=labels, preds=present_simple_pred, lower=True)"
   ]
  },
  {
   "cell_type": "code",
   "execution_count": 16,
   "metadata": {},
   "outputs": [
    {
     "name": "stderr",
     "output_type": "stream",
     "text": [
      "Generating outputs: 100%|██████████| 10/10 [00:03<00:00,  2.79it/s]"
     ]
    },
    {
     "name": "stdout",
     "output_type": "stream",
     "text": [
      "- avg_p: 0.75\n",
      "lower:\n",
      "- avg_p: 0.8\n"
     ]
    },
    {
     "name": "stderr",
     "output_type": "stream",
     "text": [
      "\n"
     ]
    }
   ],
   "source": [
    "present_simple_pred = E2.predict(present_simple['problem'].tolist())\n",
    "\n",
    "present_simple_results = E2.calculate_difference(labels=labels, preds=present_simple_pred)\n",
    "print('lower:')\n",
    "present_simple_results_lower = E2.calculate_difference(labels=labels, preds=present_simple_pred, lower=True)"
   ]
  }
 ],
 "metadata": {
  "interpreter": {
   "hash": "8b3dd3ec0ad80d1bbada041b9256793a722c712a1bfa06419e06e826fad6496b"
  },
  "kernelspec": {
   "display_name": "Python 3.8.10 64-bit ('venv': venv)",
   "language": "python",
   "name": "python3"
  },
  "language_info": {
   "codemirror_mode": {
    "name": "ipython",
    "version": 3
   },
   "file_extension": ".py",
   "mimetype": "text/x-python",
   "name": "python",
   "nbconvert_exporter": "python",
   "pygments_lexer": "ipython3",
   "version": "3.8.10"
  },
  "orig_nbformat": 4
 },
 "nbformat": 4,
 "nbformat_minor": 2
}
